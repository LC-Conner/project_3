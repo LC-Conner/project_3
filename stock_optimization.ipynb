{
 "cells": [
  {
   "cell_type": "code",
   "execution_count": 1,
   "metadata": {},
   "outputs": [],
   "source": [
    "\n",
    "import datetime\n",
    "import pandas as pd\n",
    "import yfinance as yf\n",
    "import pandas_datareader.data as web\n",
    "import numpy as np\n",
    "import scipy as sp\n",
    "from scipy.optimize import minimize\n",
    "\n"
   ]
  },
  {
   "cell_type": "code",
   "execution_count": 223,
   "metadata": {},
   "outputs": [
    {
     "name": "stdout",
     "output_type": "stream",
     "text": [
      "[*********************100%***********************]  1 of 1 completed\n",
      "[*********************100%***********************]  1 of 1 completed\n",
      "[*********************100%***********************]  1 of 1 completed\n",
      "[*********************100%***********************]  1 of 1 completed\n"
     ]
    }
   ],
   "source": [
    "ap = yf.download('AAPL', start=\"2023-01-01\", end=\"2023-05-01\")\n",
    "gg = yf.download('GOOG', start=\"2023-01-01\", end=\"2023-05-01\")\n",
    "ms = yf.download('MSFT', start=\"2023-01-01\", end=\"2023-05-01\")\n",
    "ts = yf.download('TSLA', start=\"2023-01-01\", end=\"2023-05-01\")\n"
   ]
  },
  {
   "cell_type": "code",
   "execution_count": 224,
   "metadata": {},
   "outputs": [],
   "source": [
    "stocks = pd.concat([ap['Adj Close'], gg['Adj Close'], ms['Adj Close'], ts['Adj Close']],axis=1)\n"
   ]
  },
  {
   "cell_type": "code",
   "execution_count": 225,
   "metadata": {},
   "outputs": [],
   "source": [
    "stocks.columns = ['Apple', 'Google', 'Microsoft', 'Tesla']"
   ]
  },
  {
   "cell_type": "code",
   "execution_count": 226,
   "metadata": {},
   "outputs": [
    {
     "data": {
      "text/html": [
       "<div>\n",
       "<style scoped>\n",
       "    .dataframe tbody tr th:only-of-type {\n",
       "        vertical-align: middle;\n",
       "    }\n",
       "\n",
       "    .dataframe tbody tr th {\n",
       "        vertical-align: top;\n",
       "    }\n",
       "\n",
       "    .dataframe thead th {\n",
       "        text-align: right;\n",
       "    }\n",
       "</style>\n",
       "<table border=\"1\" class=\"dataframe\">\n",
       "  <thead>\n",
       "    <tr style=\"text-align: right;\">\n",
       "      <th></th>\n",
       "      <th>Apple</th>\n",
       "      <th>Google</th>\n",
       "      <th>Microsoft</th>\n",
       "      <th>Tesla</th>\n",
       "    </tr>\n",
       "    <tr>\n",
       "      <th>Date</th>\n",
       "      <th></th>\n",
       "      <th></th>\n",
       "      <th></th>\n",
       "      <th></th>\n",
       "    </tr>\n",
       "  </thead>\n",
       "  <tbody>\n",
       "    <tr>\n",
       "      <th>2023-01-03</th>\n",
       "      <td>NaN</td>\n",
       "      <td>NaN</td>\n",
       "      <td>NaN</td>\n",
       "      <td>NaN</td>\n",
       "    </tr>\n",
       "    <tr>\n",
       "      <th>2023-01-04</th>\n",
       "      <td>1.010314</td>\n",
       "      <td>0.988963</td>\n",
       "      <td>0.956257</td>\n",
       "      <td>1.051249</td>\n",
       "    </tr>\n",
       "    <tr>\n",
       "      <th>2023-01-05</th>\n",
       "      <td>0.989395</td>\n",
       "      <td>0.978131</td>\n",
       "      <td>0.970362</td>\n",
       "      <td>0.970961</td>\n",
       "    </tr>\n",
       "    <tr>\n",
       "      <th>2023-01-06</th>\n",
       "      <td>1.036794</td>\n",
       "      <td>1.016019</td>\n",
       "      <td>1.011785</td>\n",
       "      <td>1.024651</td>\n",
       "    </tr>\n",
       "    <tr>\n",
       "      <th>2023-01-09</th>\n",
       "      <td>1.004089</td>\n",
       "      <td>1.007260</td>\n",
       "      <td>1.009736</td>\n",
       "      <td>1.059349</td>\n",
       "    </tr>\n",
       "    <tr>\n",
       "      <th>...</th>\n",
       "      <td>...</td>\n",
       "      <td>...</td>\n",
       "      <td>...</td>\n",
       "      <td>...</td>\n",
       "    </tr>\n",
       "    <tr>\n",
       "      <th>2023-04-24</th>\n",
       "      <td>1.001879</td>\n",
       "      <td>1.008214</td>\n",
       "      <td>0.986037</td>\n",
       "      <td>0.984674</td>\n",
       "    </tr>\n",
       "    <tr>\n",
       "      <th>2023-04-25</th>\n",
       "      <td>0.990564</td>\n",
       "      <td>0.979678</td>\n",
       "      <td>0.977464</td>\n",
       "      <td>0.988434</td>\n",
       "    </tr>\n",
       "    <tr>\n",
       "      <th>2023-04-26</th>\n",
       "      <td>0.999939</td>\n",
       "      <td>0.998470</td>\n",
       "      <td>1.072435</td>\n",
       "      <td>0.956930</td>\n",
       "    </tr>\n",
       "    <tr>\n",
       "      <th>2023-04-27</th>\n",
       "      <td>1.028395</td>\n",
       "      <td>1.037530</td>\n",
       "      <td>1.032028</td>\n",
       "      <td>1.041886</td>\n",
       "    </tr>\n",
       "    <tr>\n",
       "      <th>2023-04-28</th>\n",
       "      <td>1.007541</td>\n",
       "      <td>0.998616</td>\n",
       "      <td>1.007972</td>\n",
       "      <td>1.025719</td>\n",
       "    </tr>\n",
       "  </tbody>\n",
       "</table>\n",
       "<p>81 rows × 4 columns</p>\n",
       "</div>"
      ],
      "text/plain": [
       "               Apple    Google  Microsoft     Tesla\n",
       "Date                                               \n",
       "2023-01-03 NaN       NaN       NaN        NaN      \n",
       "2023-01-04  1.010314  0.988963  0.956257   1.051249\n",
       "2023-01-05  0.989395  0.978131  0.970362   0.970961\n",
       "2023-01-06  1.036794  1.016019  1.011785   1.024651\n",
       "2023-01-09  1.004089  1.007260  1.009736   1.059349\n",
       "...              ...       ...       ...        ...\n",
       "2023-04-24  1.001879  1.008214  0.986037   0.984674\n",
       "2023-04-25  0.990564  0.979678  0.977464   0.988434\n",
       "2023-04-26  0.999939  0.998470  1.072435   0.956930\n",
       "2023-04-27  1.028395  1.037530  1.032028   1.041886\n",
       "2023-04-28  1.007541  0.998616  1.007972   1.025719\n",
       "\n",
       "[81 rows x 4 columns]"
      ]
     },
     "execution_count": 226,
     "metadata": {},
     "output_type": "execute_result"
    }
   ],
   "source": [
    "## Change in returns over time\n",
    "\n",
    "returns = stocks/stocks.shift(1)\n",
    "returns"
   ]
  },
  {
   "cell_type": "code",
   "execution_count": 227,
   "metadata": {},
   "outputs": [
    {
     "data": {
      "text/plain": [
       "Apple        1.003936\n",
       "Google       1.002617\n",
       "Microsoft    1.003340\n",
       "Tesla        1.006018\n",
       "dtype: float64"
      ]
     },
     "execution_count": 227,
     "metadata": {},
     "output_type": "execute_result"
    }
   ],
   "source": [
    "## Find mean of returns\n",
    "\n",
    "returns.mean()"
   ]
  },
  {
   "cell_type": "code",
   "execution_count": 228,
   "metadata": {},
   "outputs": [
    {
     "data": {
      "text/html": [
       "<div>\n",
       "<style scoped>\n",
       "    .dataframe tbody tr th:only-of-type {\n",
       "        vertical-align: middle;\n",
       "    }\n",
       "\n",
       "    .dataframe tbody tr th {\n",
       "        vertical-align: top;\n",
       "    }\n",
       "\n",
       "    .dataframe thead th {\n",
       "        text-align: right;\n",
       "    }\n",
       "</style>\n",
       "<table border=\"1\" class=\"dataframe\">\n",
       "  <thead>\n",
       "    <tr style=\"text-align: right;\">\n",
       "      <th></th>\n",
       "      <th>Apple</th>\n",
       "      <th>Google</th>\n",
       "      <th>Microsoft</th>\n",
       "      <th>Tesla</th>\n",
       "    </tr>\n",
       "    <tr>\n",
       "      <th>Date</th>\n",
       "      <th></th>\n",
       "      <th></th>\n",
       "      <th></th>\n",
       "      <th></th>\n",
       "    </tr>\n",
       "  </thead>\n",
       "  <tbody>\n",
       "    <tr>\n",
       "      <th>2023-01-03</th>\n",
       "      <td>NaN</td>\n",
       "      <td>NaN</td>\n",
       "      <td>NaN</td>\n",
       "      <td>NaN</td>\n",
       "    </tr>\n",
       "    <tr>\n",
       "      <th>2023-01-04</th>\n",
       "      <td>0.010261</td>\n",
       "      <td>-0.011098</td>\n",
       "      <td>-0.044729</td>\n",
       "      <td>0.049979</td>\n",
       "    </tr>\n",
       "    <tr>\n",
       "      <th>2023-01-05</th>\n",
       "      <td>-0.010661</td>\n",
       "      <td>-0.022112</td>\n",
       "      <td>-0.030086</td>\n",
       "      <td>-0.029469</td>\n",
       "    </tr>\n",
       "    <tr>\n",
       "      <th>2023-01-06</th>\n",
       "      <td>0.036133</td>\n",
       "      <td>0.015892</td>\n",
       "      <td>0.011716</td>\n",
       "      <td>0.024352</td>\n",
       "    </tr>\n",
       "    <tr>\n",
       "      <th>2023-01-09</th>\n",
       "      <td>0.004081</td>\n",
       "      <td>0.007233</td>\n",
       "      <td>0.009689</td>\n",
       "      <td>0.057655</td>\n",
       "    </tr>\n",
       "    <tr>\n",
       "      <th>...</th>\n",
       "      <td>...</td>\n",
       "      <td>...</td>\n",
       "      <td>...</td>\n",
       "      <td>...</td>\n",
       "    </tr>\n",
       "    <tr>\n",
       "      <th>2023-04-24</th>\n",
       "      <td>0.001877</td>\n",
       "      <td>0.008181</td>\n",
       "      <td>-0.014061</td>\n",
       "      <td>-0.015445</td>\n",
       "    </tr>\n",
       "    <tr>\n",
       "      <th>2023-04-25</th>\n",
       "      <td>-0.009480</td>\n",
       "      <td>-0.020531</td>\n",
       "      <td>-0.022794</td>\n",
       "      <td>-0.011633</td>\n",
       "    </tr>\n",
       "    <tr>\n",
       "      <th>2023-04-26</th>\n",
       "      <td>-0.000061</td>\n",
       "      <td>-0.001531</td>\n",
       "      <td>0.069932</td>\n",
       "      <td>-0.044025</td>\n",
       "    </tr>\n",
       "    <tr>\n",
       "      <th>2023-04-27</th>\n",
       "      <td>0.028000</td>\n",
       "      <td>0.036843</td>\n",
       "      <td>0.031525</td>\n",
       "      <td>0.041033</td>\n",
       "    </tr>\n",
       "    <tr>\n",
       "      <th>2023-04-28</th>\n",
       "      <td>0.007513</td>\n",
       "      <td>-0.001385</td>\n",
       "      <td>0.007940</td>\n",
       "      <td>0.025394</td>\n",
       "    </tr>\n",
       "  </tbody>\n",
       "</table>\n",
       "<p>81 rows × 4 columns</p>\n",
       "</div>"
      ],
      "text/plain": [
       "               Apple    Google  Microsoft     Tesla\n",
       "Date                                               \n",
       "2023-01-03 NaN       NaN       NaN        NaN      \n",
       "2023-01-04  0.010261 -0.011098 -0.044729   0.049979\n",
       "2023-01-05 -0.010661 -0.022112 -0.030086  -0.029469\n",
       "2023-01-06  0.036133  0.015892  0.011716   0.024352\n",
       "2023-01-09  0.004081  0.007233  0.009689   0.057655\n",
       "...              ...       ...       ...        ...\n",
       "2023-04-24  0.001877  0.008181 -0.014061  -0.015445\n",
       "2023-04-25 -0.009480 -0.020531 -0.022794  -0.011633\n",
       "2023-04-26 -0.000061 -0.001531  0.069932  -0.044025\n",
       "2023-04-27  0.028000  0.036843  0.031525   0.041033\n",
       "2023-04-28  0.007513 -0.001385  0.007940   0.025394\n",
       "\n",
       "[81 rows x 4 columns]"
      ]
     },
     "execution_count": 228,
     "metadata": {},
     "output_type": "execute_result"
    }
   ],
   "source": [
    "logReturns = np.log(returns)\n",
    "logReturns"
   ]
  },
  {
   "cell_type": "code",
   "execution_count": 229,
   "metadata": {},
   "outputs": [
    {
     "data": {
      "text/html": [
       "<div>\n",
       "<style scoped>\n",
       "    .dataframe tbody tr th:only-of-type {\n",
       "        vertical-align: middle;\n",
       "    }\n",
       "\n",
       "    .dataframe tbody tr th {\n",
       "        vertical-align: top;\n",
       "    }\n",
       "\n",
       "    .dataframe thead th {\n",
       "        text-align: right;\n",
       "    }\n",
       "</style>\n",
       "<table border=\"1\" class=\"dataframe\">\n",
       "  <thead>\n",
       "    <tr style=\"text-align: right;\">\n",
       "      <th></th>\n",
       "      <th>Apple</th>\n",
       "      <th>Google</th>\n",
       "      <th>Microsoft</th>\n",
       "      <th>Tesla</th>\n",
       "    </tr>\n",
       "  </thead>\n",
       "  <tbody>\n",
       "    <tr>\n",
       "      <th>Apple</th>\n",
       "      <td>0.000195</td>\n",
       "      <td>0.000218</td>\n",
       "      <td>0.000157</td>\n",
       "      <td>0.000267</td>\n",
       "    </tr>\n",
       "    <tr>\n",
       "      <th>Google</th>\n",
       "      <td>0.000218</td>\n",
       "      <td>0.000542</td>\n",
       "      <td>0.000292</td>\n",
       "      <td>0.000288</td>\n",
       "    </tr>\n",
       "    <tr>\n",
       "      <th>Microsoft</th>\n",
       "      <td>0.000157</td>\n",
       "      <td>0.000292</td>\n",
       "      <td>0.000390</td>\n",
       "      <td>0.000218</td>\n",
       "    </tr>\n",
       "    <tr>\n",
       "      <th>Tesla</th>\n",
       "      <td>0.000267</td>\n",
       "      <td>0.000288</td>\n",
       "      <td>0.000218</td>\n",
       "      <td>0.001549</td>\n",
       "    </tr>\n",
       "  </tbody>\n",
       "</table>\n",
       "</div>"
      ],
      "text/plain": [
       "              Apple    Google  Microsoft     Tesla\n",
       "Apple      0.000195  0.000218  0.000157   0.000267\n",
       "Google     0.000218  0.000542  0.000292   0.000288\n",
       "Microsoft  0.000157  0.000292  0.000390   0.000218\n",
       "Tesla      0.000267  0.000288  0.000218   0.001549"
      ]
     },
     "execution_count": 229,
     "metadata": {},
     "output_type": "execute_result"
    }
   ],
   "source": [
    "pbar = logReturns.mean()\n",
    "sigma = logReturns.cov()\n",
    "pbar\n",
    "sigma"
   ]
  },
  {
   "cell_type": "code",
   "execution_count": 230,
   "metadata": {},
   "outputs": [],
   "source": [
    "rMin = 0.02\n",
    "def riskFunction(w):\n",
    "    return np.dot(w.T,np.dot(sigma,w))\n",
    "\n",
    "w0 = [0.25, 0.25, 0.25, 0.25]\n",
    "bounds = ((0,1), (0,1), (0,1), (0,1))\n",
    "\n",
    "def checkMinimumRertun(w):\n",
    "    RHS = rMin - np.sum(pbar * w)\n",
    "    return RHS\n",
    "def checkSumToOne(w):\n",
    "    return np.sum(w) - 1 \n",
    "\n",
    "constraints = ({'type': 'eq', 'fun': checkMinimumRertun},{'type': 'eq', 'fun': checkSumToOne})\n",
    "w_opt = minimize(riskFunction, w0, method='SLSQP', bounds=bounds, constraints=constraints)"
   ]
  },
  {
   "cell_type": "code",
   "execution_count": 235,
   "metadata": {},
   "outputs": [
    {
     "data": {
      "text/plain": [
       " message: Positive directional derivative for linesearch\n",
       " success: False\n",
       "  status: 8\n",
       "     fun: 0.0015485991983561684\n",
       "       x: [ 3.140e-14  7.186e-15  6.323e-16  1.000e+00]\n",
       "     nit: 23\n",
       "     jac: [ 5.342e-04  5.762e-04  4.358e-04  3.097e-03]\n",
       "    nfev: 247\n",
       "    njev: 19"
      ]
     },
     "execution_count": 235,
     "metadata": {},
     "output_type": "execute_result"
    }
   ],
   "source": [
    "w_opt"
   ]
  },
  {
   "cell_type": "code",
   "execution_count": 236,
   "metadata": {},
   "outputs": [
    {
     "data": {
      "text/plain": [
       "array([3.14044574e-14, 7.18629216e-15, 6.32322982e-16, 1.00000000e+00])"
      ]
     },
     "execution_count": 236,
     "metadata": {},
     "output_type": "execute_result"
    }
   ],
   "source": [
    "w_scipy = w_opt.x\n",
    "w_scipy"
   ]
  },
  {
   "cell_type": "code",
   "execution_count": 237,
   "metadata": {},
   "outputs": [
    {
     "data": {
      "text/plain": [
       "0.0015485991983561684"
      ]
     },
     "execution_count": 237,
     "metadata": {},
     "output_type": "execute_result"
    }
   ],
   "source": [
    "risk_scipy = riskFunction(w_scipy)\n",
    "risk_scipy"
   ]
  },
  {
   "cell_type": "code",
   "execution_count": 238,
   "metadata": {},
   "outputs": [
    {
     "data": {
      "text/plain": [
       "0.005233727025943622"
      ]
     },
     "execution_count": 238,
     "metadata": {},
     "output_type": "execute_result"
    }
   ],
   "source": [
    "np.sum(pbar*w_scipy)\n"
   ]
  },
  {
   "cell_type": "code",
   "execution_count": 240,
   "metadata": {},
   "outputs": [],
   "source": [
    "def markowitz(rMin,sigma,pbar):\n",
    "    N = len(sigma)\n",
    "    o = np.ones(N)\n",
    "    sigmaInv = np.linalg.inv(sigma)\n",
    "    a = np.dot(pbar.T, np.dot(sigmaInv,pbar))\n",
    "    b = np.dot(pbar.T,np.dot(sigmaInv,o))\n",
    "    c = np.dot(o.T,np.dot(sigmaInv,o))\n",
    "    return (1/(a*c - b**2)) * np.dot(sigmaInv,((c*rMin - b)*pbar + (a-b*rMin)*o))"
   ]
  },
  {
   "cell_type": "code",
   "execution_count": 241,
   "metadata": {},
   "outputs": [
    {
     "data": {
      "text/plain": [
       "array([ 8.41537723, -8.62050435, -0.79797783,  2.00310495])"
      ]
     },
     "execution_count": 241,
     "metadata": {},
     "output_type": "execute_result"
    }
   ],
   "source": [
    "analysis = markowitz(rMin,sigma,pbar)\n",
    "analysis"
   ]
  },
  {
   "cell_type": "code",
   "execution_count": null,
   "metadata": {},
   "outputs": [],
   "source": []
  }
 ],
 "metadata": {
  "kernelspec": {
   "display_name": "Python 3 (ipykernel)",
   "language": "python",
   "name": "python3"
  },
  "language_info": {
   "codemirror_mode": {
    "name": "ipython",
    "version": 3
   },
   "file_extension": ".py",
   "mimetype": "text/x-python",
   "name": "python",
   "nbconvert_exporter": "python",
   "pygments_lexer": "ipython3",
   "version": "3.10.9"
  }
 },
 "nbformat": 4,
 "nbformat_minor": 2
}
