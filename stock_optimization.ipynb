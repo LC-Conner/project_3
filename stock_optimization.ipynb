{
 "cells": [
  {
   "cell_type": "code",
   "execution_count": 229,
   "metadata": {
    "ExecuteTime": {
     "end_time": "2023-05-25T03:22:02.561864Z",
     "start_time": "2023-05-25T03:22:01.726796Z"
    }
   },
   "outputs": [],
   "source": [
    "\n",
    "import datetime\n",
    "import pandas as pd\n",
    "import yfinance as yf\n",
    "import pandas_datareader.data as web\n",
    "import numpy as np\n",
    "import scipy as sp\n",
    "from scipy.optimize import minimize\n",
    "\n"
   ]
  },
  {
   "cell_type": "code",
   "execution_count": 230,
   "metadata": {
    "ExecuteTime": {
     "end_time": "2023-05-25T03:41:06.491052Z",
     "start_time": "2023-05-25T03:41:03.987708Z"
    }
   },
   "outputs": [
    {
     "name": "stdout",
     "output_type": "stream",
     "text": [
      "[*********************100%***********************]  1 of 1 completed\n",
      "[*********************100%***********************]  1 of 1 completed\n",
      "[*********************100%***********************]  1 of 1 completed\n",
      "[*********************100%***********************]  1 of 1 completed\n",
      "[*********************100%***********************]  1 of 1 completed\n",
      "[*********************100%***********************]  1 of 1 completed\n"
     ]
    }
   ],
   "source": [
    "# FANG\n",
    "\n",
    "jm = yf.download('JPM', start=\"2022-05-01\", end=\"2023-05-01\")\n",
    "ap = yf.download('AAPL', start=\"2022-05-01\", end=\"2023-05-01\")\n",
    "am = yf.download('AMZN', start=\"2022-05-01\", end=\"2023-05-01\")\n",
    "wm = yf.download('WMT', start=\"2022-05-01\", end=\"2023-05-01\")\n",
    "tg = yf.download('TGT', start=\"2022-05-01\", end=\"2023-05-01\")\n",
    "ms = yf.download('MSFT', start=\"2022-05-01\", end=\"2023-05-01\")\n"
   ]
  },
  {
   "cell_type": "code",
   "execution_count": 231,
   "metadata": {
    "ExecuteTime": {
     "end_time": "2023-05-25T03:41:53.246575Z",
     "start_time": "2023-05-25T03:41:53.239514Z"
    }
   },
   "outputs": [],
   "source": [
    "stocks = pd.concat([jm['Adj Close'], ap['Adj Close'], am['Adj Close'], wm['Adj Close'], tg['Adj Close'], ms['Adj Close']],axis=1)\n",
    "\n",
    "\n"
   ]
  },
  {
   "cell_type": "code",
   "execution_count": 232,
   "metadata": {
    "ExecuteTime": {
     "end_time": "2023-05-25T03:43:10.154676Z",
     "start_time": "2023-05-25T03:43:10.150423Z"
    }
   },
   "outputs": [],
   "source": [
    "stocks.columns = ['JP Morgan', 'Apple', 'Amazon', 'Walmart', 'Target', 'Microsoft']\n",
    "stocks.tail()\n",
    "#exporting csv to csv for database\n",
    "stocks.to_csv('df2db.csv', index=False)"
   ]
  },
  {
   "cell_type": "code",
   "execution_count": 233,
   "metadata": {
    "ExecuteTime": {
     "end_time": "2023-05-25T03:43:39.368774Z",
     "start_time": "2023-05-25T03:43:39.358659Z"
    }
   },
   "outputs": [
    {
     "data": {
      "text/html": [
       "<div>\n",
       "<style scoped>\n",
       "    .dataframe tbody tr th:only-of-type {\n",
       "        vertical-align: middle;\n",
       "    }\n",
       "\n",
       "    .dataframe tbody tr th {\n",
       "        vertical-align: top;\n",
       "    }\n",
       "\n",
       "    .dataframe thead th {\n",
       "        text-align: right;\n",
       "    }\n",
       "</style>\n",
       "<table border=\"1\" class=\"dataframe\">\n",
       "  <thead>\n",
       "    <tr style=\"text-align: right;\">\n",
       "      <th></th>\n",
       "      <th>JP Morgan</th>\n",
       "      <th>Apple</th>\n",
       "      <th>Amazon</th>\n",
       "      <th>Walmart</th>\n",
       "      <th>Target</th>\n",
       "      <th>Microsoft</th>\n",
       "    </tr>\n",
       "    <tr>\n",
       "      <th>Date</th>\n",
       "      <th></th>\n",
       "      <th></th>\n",
       "      <th></th>\n",
       "      <th></th>\n",
       "      <th></th>\n",
       "      <th></th>\n",
       "    </tr>\n",
       "  </thead>\n",
       "  <tbody>\n",
       "    <tr>\n",
       "      <th>2022-05-02</th>\n",
       "      <td>NaN</td>\n",
       "      <td>NaN</td>\n",
       "      <td>NaN</td>\n",
       "      <td>NaN</td>\n",
       "      <td>NaN</td>\n",
       "      <td>NaN</td>\n",
       "    </tr>\n",
       "    <tr>\n",
       "      <th>2022-05-03</th>\n",
       "      <td>1.021420</td>\n",
       "      <td>1.009622</td>\n",
       "      <td>0.998020</td>\n",
       "      <td>1.003487</td>\n",
       "      <td>1.012011</td>\n",
       "      <td>0.990544</td>\n",
       "    </tr>\n",
       "    <tr>\n",
       "      <th>2022-05-04</th>\n",
       "      <td>1.033081</td>\n",
       "      <td>1.041008</td>\n",
       "      <td>1.013480</td>\n",
       "      <td>1.013835</td>\n",
       "      <td>1.021029</td>\n",
       "      <td>1.029101</td>\n",
       "    </tr>\n",
       "    <tr>\n",
       "      <th>2022-05-05</th>\n",
       "      <td>0.974980</td>\n",
       "      <td>0.944284</td>\n",
       "      <td>0.924390</td>\n",
       "      <td>0.991432</td>\n",
       "      <td>0.971908</td>\n",
       "      <td>0.956445</td>\n",
       "    </tr>\n",
       "    <tr>\n",
       "      <th>2022-05-06</th>\n",
       "      <td>0.998386</td>\n",
       "      <td>1.004727</td>\n",
       "      <td>0.985959</td>\n",
       "      <td>0.979180</td>\n",
       "      <td>0.975949</td>\n",
       "      <td>0.990554</td>\n",
       "    </tr>\n",
       "    <tr>\n",
       "      <th>...</th>\n",
       "      <td>...</td>\n",
       "      <td>...</td>\n",
       "      <td>...</td>\n",
       "      <td>...</td>\n",
       "      <td>...</td>\n",
       "      <td>...</td>\n",
       "    </tr>\n",
       "    <tr>\n",
       "      <th>2023-04-24</th>\n",
       "      <td>1.001352</td>\n",
       "      <td>1.001879</td>\n",
       "      <td>0.992988</td>\n",
       "      <td>1.006788</td>\n",
       "      <td>1.010852</td>\n",
       "      <td>0.986037</td>\n",
       "    </tr>\n",
       "    <tr>\n",
       "      <th>2023-04-25</th>\n",
       "      <td>0.978256</td>\n",
       "      <td>0.990564</td>\n",
       "      <td>0.965728</td>\n",
       "      <td>0.992210</td>\n",
       "      <td>0.961388</td>\n",
       "      <td>0.977464</td>\n",
       "    </tr>\n",
       "    <tr>\n",
       "      <th>2023-04-26</th>\n",
       "      <td>0.982276</td>\n",
       "      <td>0.999939</td>\n",
       "      <td>1.023496</td>\n",
       "      <td>0.995646</td>\n",
       "      <td>0.986295</td>\n",
       "      <td>1.072435</td>\n",
       "    </tr>\n",
       "    <tr>\n",
       "      <th>2023-04-27</th>\n",
       "      <td>1.013459</td>\n",
       "      <td>1.028395</td>\n",
       "      <td>1.046104</td>\n",
       "      <td>1.003114</td>\n",
       "      <td>1.017369</td>\n",
       "      <td>1.032028</td>\n",
       "    </tr>\n",
       "    <tr>\n",
       "      <th>2023-04-28</th>\n",
       "      <td>1.008683</td>\n",
       "      <td>1.007541</td>\n",
       "      <td>0.960208</td>\n",
       "      <td>0.997292</td>\n",
       "      <td>0.997471</td>\n",
       "      <td>1.007972</td>\n",
       "    </tr>\n",
       "  </tbody>\n",
       "</table>\n",
       "<p>250 rows × 6 columns</p>\n",
       "</div>"
      ],
      "text/plain": [
       "            JP Morgan     Apple    Amazon   Walmart    Target  Microsoft\n",
       "Date                                                                    \n",
       "2022-05-02        NaN       NaN       NaN       NaN       NaN        NaN\n",
       "2022-05-03   1.021420  1.009622  0.998020  1.003487  1.012011   0.990544\n",
       "2022-05-04   1.033081  1.041008  1.013480  1.013835  1.021029   1.029101\n",
       "2022-05-05   0.974980  0.944284  0.924390  0.991432  0.971908   0.956445\n",
       "2022-05-06   0.998386  1.004727  0.985959  0.979180  0.975949   0.990554\n",
       "...               ...       ...       ...       ...       ...        ...\n",
       "2023-04-24   1.001352  1.001879  0.992988  1.006788  1.010852   0.986037\n",
       "2023-04-25   0.978256  0.990564  0.965728  0.992210  0.961388   0.977464\n",
       "2023-04-26   0.982276  0.999939  1.023496  0.995646  0.986295   1.072435\n",
       "2023-04-27   1.013459  1.028395  1.046104  1.003114  1.017369   1.032028\n",
       "2023-04-28   1.008683  1.007541  0.960208  0.997292  0.997471   1.007972\n",
       "\n",
       "[250 rows x 6 columns]"
      ]
     },
     "execution_count": 233,
     "metadata": {},
     "output_type": "execute_result"
    }
   ],
   "source": [
    "## Change in returns over time\n",
    "\n",
    "returns = stocks/stocks.shift(1)\n",
    "returns"
   ]
  },
  {
   "cell_type": "code",
   "execution_count": 234,
   "metadata": {
    "ExecuteTime": {
     "end_time": "2023-05-25T03:43:46.015251Z",
     "start_time": "2023-05-25T03:43:46.009062Z"
    }
   },
   "outputs": [
    {
     "data": {
      "text/plain": [
       "JP Morgan    1.000847\n",
       "Apple        1.000539\n",
       "Amazon       0.999749\n",
       "Walmart      1.000171\n",
       "Target       0.998998\n",
       "Microsoft    1.000582\n",
       "dtype: float64"
      ]
     },
     "execution_count": 234,
     "metadata": {},
     "output_type": "execute_result"
    }
   ],
   "source": [
    "## Find mean of returns\n",
    "\n",
    "returns.mean()"
   ]
  },
  {
   "cell_type": "code",
   "execution_count": 235,
   "metadata": {
    "ExecuteTime": {
     "end_time": "2023-05-25T03:43:49.307762Z",
     "start_time": "2023-05-25T03:43:49.279053Z"
    }
   },
   "outputs": [
    {
     "data": {
      "text/html": [
       "<div>\n",
       "<style scoped>\n",
       "    .dataframe tbody tr th:only-of-type {\n",
       "        vertical-align: middle;\n",
       "    }\n",
       "\n",
       "    .dataframe tbody tr th {\n",
       "        vertical-align: top;\n",
       "    }\n",
       "\n",
       "    .dataframe thead th {\n",
       "        text-align: right;\n",
       "    }\n",
       "</style>\n",
       "<table border=\"1\" class=\"dataframe\">\n",
       "  <thead>\n",
       "    <tr style=\"text-align: right;\">\n",
       "      <th></th>\n",
       "      <th>JP Morgan</th>\n",
       "      <th>Apple</th>\n",
       "      <th>Amazon</th>\n",
       "      <th>Walmart</th>\n",
       "      <th>Target</th>\n",
       "      <th>Microsoft</th>\n",
       "    </tr>\n",
       "    <tr>\n",
       "      <th>Date</th>\n",
       "      <th></th>\n",
       "      <th></th>\n",
       "      <th></th>\n",
       "      <th></th>\n",
       "      <th></th>\n",
       "      <th></th>\n",
       "    </tr>\n",
       "  </thead>\n",
       "  <tbody>\n",
       "    <tr>\n",
       "      <th>2022-05-02</th>\n",
       "      <td>NaN</td>\n",
       "      <td>NaN</td>\n",
       "      <td>NaN</td>\n",
       "      <td>NaN</td>\n",
       "      <td>NaN</td>\n",
       "      <td>NaN</td>\n",
       "    </tr>\n",
       "    <tr>\n",
       "      <th>2022-05-03</th>\n",
       "      <td>0.021194</td>\n",
       "      <td>0.009576</td>\n",
       "      <td>-0.001982</td>\n",
       "      <td>0.003481</td>\n",
       "      <td>0.011940</td>\n",
       "      <td>-0.009501</td>\n",
       "    </tr>\n",
       "    <tr>\n",
       "      <th>2022-05-04</th>\n",
       "      <td>0.032546</td>\n",
       "      <td>0.040190</td>\n",
       "      <td>0.013390</td>\n",
       "      <td>0.013740</td>\n",
       "      <td>0.020811</td>\n",
       "      <td>0.028685</td>\n",
       "    </tr>\n",
       "    <tr>\n",
       "      <th>2022-05-05</th>\n",
       "      <td>-0.025338</td>\n",
       "      <td>-0.057329</td>\n",
       "      <td>-0.078622</td>\n",
       "      <td>-0.008605</td>\n",
       "      <td>-0.028495</td>\n",
       "      <td>-0.044532</td>\n",
       "    </tr>\n",
       "    <tr>\n",
       "      <th>2022-05-06</th>\n",
       "      <td>-0.001615</td>\n",
       "      <td>0.004716</td>\n",
       "      <td>-0.014141</td>\n",
       "      <td>-0.021039</td>\n",
       "      <td>-0.024345</td>\n",
       "      <td>-0.009491</td>\n",
       "    </tr>\n",
       "    <tr>\n",
       "      <th>...</th>\n",
       "      <td>...</td>\n",
       "      <td>...</td>\n",
       "      <td>...</td>\n",
       "      <td>...</td>\n",
       "      <td>...</td>\n",
       "      <td>...</td>\n",
       "    </tr>\n",
       "    <tr>\n",
       "      <th>2023-04-24</th>\n",
       "      <td>0.001351</td>\n",
       "      <td>0.001877</td>\n",
       "      <td>-0.007037</td>\n",
       "      <td>0.006765</td>\n",
       "      <td>0.010794</td>\n",
       "      <td>-0.014061</td>\n",
       "    </tr>\n",
       "    <tr>\n",
       "      <th>2023-04-25</th>\n",
       "      <td>-0.021984</td>\n",
       "      <td>-0.009480</td>\n",
       "      <td>-0.034873</td>\n",
       "      <td>-0.007820</td>\n",
       "      <td>-0.039377</td>\n",
       "      <td>-0.022794</td>\n",
       "    </tr>\n",
       "    <tr>\n",
       "      <th>2023-04-26</th>\n",
       "      <td>-0.017883</td>\n",
       "      <td>-0.000061</td>\n",
       "      <td>0.023224</td>\n",
       "      <td>-0.004364</td>\n",
       "      <td>-0.013800</td>\n",
       "      <td>0.069932</td>\n",
       "    </tr>\n",
       "    <tr>\n",
       "      <th>2023-04-27</th>\n",
       "      <td>0.013369</td>\n",
       "      <td>0.028000</td>\n",
       "      <td>0.045073</td>\n",
       "      <td>0.003110</td>\n",
       "      <td>0.017220</td>\n",
       "      <td>0.031525</td>\n",
       "    </tr>\n",
       "    <tr>\n",
       "      <th>2023-04-28</th>\n",
       "      <td>0.008645</td>\n",
       "      <td>0.007513</td>\n",
       "      <td>-0.040606</td>\n",
       "      <td>-0.002712</td>\n",
       "      <td>-0.002532</td>\n",
       "      <td>0.007940</td>\n",
       "    </tr>\n",
       "  </tbody>\n",
       "</table>\n",
       "<p>250 rows × 6 columns</p>\n",
       "</div>"
      ],
      "text/plain": [
       "            JP Morgan     Apple    Amazon   Walmart    Target  Microsoft\n",
       "Date                                                                    \n",
       "2022-05-02        NaN       NaN       NaN       NaN       NaN        NaN\n",
       "2022-05-03   0.021194  0.009576 -0.001982  0.003481  0.011940  -0.009501\n",
       "2022-05-04   0.032546  0.040190  0.013390  0.013740  0.020811   0.028685\n",
       "2022-05-05  -0.025338 -0.057329 -0.078622 -0.008605 -0.028495  -0.044532\n",
       "2022-05-06  -0.001615  0.004716 -0.014141 -0.021039 -0.024345  -0.009491\n",
       "...               ...       ...       ...       ...       ...        ...\n",
       "2023-04-24   0.001351  0.001877 -0.007037  0.006765  0.010794  -0.014061\n",
       "2023-04-25  -0.021984 -0.009480 -0.034873 -0.007820 -0.039377  -0.022794\n",
       "2023-04-26  -0.017883 -0.000061  0.023224 -0.004364 -0.013800   0.069932\n",
       "2023-04-27   0.013369  0.028000  0.045073  0.003110  0.017220   0.031525\n",
       "2023-04-28   0.008645  0.007513 -0.040606 -0.002712 -0.002532   0.007940\n",
       "\n",
       "[250 rows x 6 columns]"
      ]
     },
     "execution_count": 235,
     "metadata": {},
     "output_type": "execute_result"
    }
   ],
   "source": [
    "logReturns = np.log(returns)\n",
    "logReturns"
   ]
  },
  {
   "cell_type": "code",
   "execution_count": 236,
   "metadata": {
    "ExecuteTime": {
     "end_time": "2023-05-25T03:55:03.429208Z",
     "start_time": "2023-05-25T03:55:03.423071Z"
    }
   },
   "outputs": [],
   "source": [
    "\n",
    "pbar = logReturns.mean() * 252\n",
    "sigma = logReturns.cov() *252"
   ]
  },
  {
   "cell_type": "code",
   "execution_count": 237,
   "metadata": {
    "ExecuteTime": {
     "end_time": "2023-05-25T03:56:40.341557Z",
     "start_time": "2023-05-25T03:56:40.322939Z"
    }
   },
   "outputs": [],
   "source": [
    "rMin = 0.02\n",
    "def riskFunction(w):\n",
    "    return np.dot(w.T,np.dot(sigma,w))\n",
    "\n",
    "w0 = [0.166, 0.166, 0.166, 0.166, 0.166, 0.167]\n",
    "bounds = ((0,1), (0,1), (0,1), (0,1), (0,1), (0,1))\n",
    "\n",
    "def checkMinimumRertun(w):\n",
    "    RHS = rMin - np.sum(pbar * w)\n",
    "    return RHS\n",
    "def checkSumToOne(w):\n",
    "    return np.sum(w) - 1 \n",
    "\n",
    "constraints = ({'type': 'eq', 'fun': checkMinimumRertun},{'type': 'eq', 'fun': checkSumToOne})\n",
    "w_opt = minimize(riskFunction, w0, method='SLSQP', bounds=bounds, constraints=constraints)"
   ]
  },
  {
   "cell_type": "code",
   "execution_count": 238,
   "metadata": {
    "ExecuteTime": {
     "end_time": "2023-05-25T03:56:40.986905Z",
     "start_time": "2023-05-25T03:56:40.981444Z"
    },
    "scrolled": true
   },
   "outputs": [
    {
     "data": {
      "text/plain": [
       "     fun: 0.05115837686470404\n",
       "     jac: array([0.08309396, 0.0949369 , 0.12690627, 0.10352511, 0.15076456,\n",
       "       0.09321559])\n",
       " message: 'Optimization terminated successfully'\n",
       "    nfev: 71\n",
       "     nit: 10\n",
       "    njev: 10\n",
       "  status: 0\n",
       " success: True\n",
       "       x: array([0.25381753, 0.01236147, 0.04539653, 0.54974009, 0.07737082,\n",
       "       0.06131356])"
      ]
     },
     "execution_count": 238,
     "metadata": {},
     "output_type": "execute_result"
    }
   ],
   "source": [
    "w_opt"
   ]
  },
  {
   "cell_type": "code",
   "execution_count": 239,
   "metadata": {
    "ExecuteTime": {
     "end_time": "2023-05-25T03:57:16.860652Z",
     "start_time": "2023-05-25T03:57:16.855007Z"
    }
   },
   "outputs": [
    {
     "data": {
      "text/plain": [
       "array([0.25381753, 0.01236147, 0.04539653, 0.54974009, 0.07737082,\n",
       "       0.06131356])"
      ]
     },
     "execution_count": 239,
     "metadata": {},
     "output_type": "execute_result"
    }
   ],
   "source": [
    "w_scipy = w_opt.x\n",
    "w_scipy"
   ]
  },
  {
   "cell_type": "code",
   "execution_count": 240,
   "metadata": {
    "ExecuteTime": {
     "end_time": "2023-05-25T03:49:30.788598Z",
     "start_time": "2023-05-25T03:49:30.779786Z"
    }
   },
   "outputs": [
    {
     "data": {
      "text/plain": [
       "0.05115837686470404"
      ]
     },
     "execution_count": 240,
     "metadata": {},
     "output_type": "execute_result"
    }
   ],
   "source": [
    "risk_scipy = riskFunction(w_scipy)\n",
    "risk_scipy"
   ]
  },
  {
   "cell_type": "code",
   "execution_count": 241,
   "metadata": {
    "ExecuteTime": {
     "end_time": "2023-05-25T03:49:31.650980Z",
     "start_time": "2023-05-25T03:49:31.646851Z"
    }
   },
   "outputs": [
    {
     "data": {
      "text/plain": [
       "0.019999999999000418"
      ]
     },
     "execution_count": 241,
     "metadata": {},
     "output_type": "execute_result"
    }
   ],
   "source": [
    "np.sum(pbar*w_scipy)\n"
   ]
  },
  {
   "cell_type": "code",
   "execution_count": 242,
   "metadata": {
    "ExecuteTime": {
     "end_time": "2023-05-25T03:53:51.699311Z",
     "start_time": "2023-05-25T03:53:51.695386Z"
    }
   },
   "outputs": [],
   "source": [
    "def markowitz(rMin,sigma,pbar):\n",
    "    N = len(sigma)\n",
    "    o = np.ones(N)\n",
    "    sigmaInv = np.linalg.inv(sigma)\n",
    "    a = np.dot(pbar.T, np.dot(sigmaInv,pbar))\n",
    "    b = np.dot(pbar.T,np.dot(sigmaInv,o))\n",
    "    c = np.dot(o.T,np.dot(sigmaInv,o))\n",
    "    return (1/(a*c - b**2)) * np.dot(sigmaInv,((c*rMin - b)*pbar + (a-b*rMin)*o))"
   ]
  },
  {
   "cell_type": "code",
   "execution_count": 243,
   "metadata": {
    "ExecuteTime": {
     "end_time": "2023-05-25T03:53:52.468539Z",
     "start_time": "2023-05-25T03:53:52.461154Z"
    }
   },
   "outputs": [
    {
     "data": {
      "text/plain": [
       "array([0.2514959 , 0.00861659, 0.04222783, 0.55143767, 0.07852841,\n",
       "       0.06769358])"
      ]
     },
     "execution_count": 243,
     "metadata": {},
     "output_type": "execute_result"
    }
   ],
   "source": [
    "analysis = markowitz(rMin,sigma,pbar)\n",
    "analysis"
   ]
  },
  {
   "cell_type": "code",
   "execution_count": null,
   "metadata": {
    "ExecuteTime": {
     "end_time": "2023-05-25T03:22:04.669012Z",
     "start_time": "2023-05-25T03:22:04.609040Z"
    }
   },
   "outputs": [],
   "source": []
  }
 ],
 "metadata": {
  "kernelspec": {
   "display_name": "Python 3 (ipykernel)",
   "language": "python",
   "name": "python3"
  },
  "language_info": {
   "codemirror_mode": {
    "name": "ipython",
    "version": 3
   },
   "file_extension": ".py",
   "mimetype": "text/x-python",
   "name": "python",
   "nbconvert_exporter": "python",
   "pygments_lexer": "ipython3",
   "version": "3.7.7"
  }
 },
 "nbformat": 4,
 "nbformat_minor": 2
}
